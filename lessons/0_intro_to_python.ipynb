{
 "cells": [
  {
   "cell_type": "markdown",
   "metadata": {},
   "source": [
    "# Intro to python\n",
    "*A good programmer should be able to pick up a new language in no more than a few hours just by reading the documentation*\n",
    "- Geeks For Geeks (https://www.geeksforgeeks.org/python-programming-language/)\n",
    "- What is Python?\n",
    "- Why Learn Python?\n",
    "- What is this programming environment?\n",
    "### Outline\n",
    "1. Variables and Data Structures\n",
    "2. Operators\n",
    "3. Control Flow\n",
    "4. Functions\n",
    "5. Modules\n",
    "6. Object-Oriented Programming"
   ]
  },
  {
   "cell_type": "code",
   "execution_count": null,
   "metadata": {},
   "outputs": [],
   "source": [
    "print(\"hello world\")"
   ]
  },
  {
   "cell_type": "markdown",
   "metadata": {},
   "source": [
    "# Variables and Data Structures"
   ]
  },
  {
   "cell_type": "markdown",
   "metadata": {},
   "source": [
    "In other programming languages like C, C++, and Java, you will need to declare the type of variables but in Python you don’t need to do that. Just type in the variable and when values will be given to it, then it will automatically know whether the value given would be an int, float, or char or even a String."
   ]
  },
  {
   "cell_type": "code",
   "execution_count": null,
   "metadata": {},
   "outputs": [],
   "source": [
    "myNumber = 3\n",
    "print(myNumber,type(myNumber))\n",
    "\n",
    "myNumber2 = 4.5\n",
    "print(myNumber2,type(myNumber2))\n",
    "\n",
    "myNumber =\"helloworld\"\n",
    "print(myNumber,type(myNumber))\n",
    "\n",
    "myNumber = 'A'\n",
    "print(myNumber,type(myNumber))"
   ]
  },
  {
   "cell_type": "code",
   "execution_count": null,
   "metadata": {},
   "outputs": [],
   "source": [
    "# creates an empty list\n",
    "nums = []\n",
    "\n",
    "# appending data in list\n",
    "nums.append(21)\n",
    "nums.append(40.5)\n",
    "nums.append(\"String\")\n",
    "\n",
    "print(nums)"
   ]
  },
  {
   "cell_type": "code",
   "execution_count": null,
   "metadata": {},
   "outputs": [],
   "source": [
    "# putting integer values\n",
    "Dict = {1: 'Geeks', 2: 'For', 3: 'Geeks'}\n",
    "\n",
    "print(Dict)"
   ]
  },
  {
   "cell_type": "code",
   "execution_count": null,
   "metadata": {},
   "outputs": [],
   "source": [
    "# creates a tuple which is immutable\n",
    "tup = ('Geeks', 'For', 'Geeks')\n",
    "\n",
    "print(tup)"
   ]
  },
  {
   "cell_type": "code",
   "execution_count": null,
   "metadata": {},
   "outputs": [],
   "source": [
    "# define a set and its elements\n",
    "myset = set([\"Geeks\", \"For\", \"Geeks\"])\n",
    "\n",
    "#as set doesn't have duplicate elements so, 1 geeks will not be printed\n",
    "print(myset)"
   ]
  },
  {
   "cell_type": "markdown",
   "metadata": {},
   "source": [
    "# Operators"
   ]
  },
  {
   "cell_type": "code",
   "execution_count": null,
   "metadata": {},
   "outputs": [],
   "source": [
    "# python program to demonstrate the use of \"/\"\n",
    "print(5/5)\n",
    "print(10/2)\n",
    "print(-10/2)\n",
    "print(20.0/2)"
   ]
  },
  {
   "cell_type": "code",
   "execution_count": null,
   "metadata": {},
   "outputs": [],
   "source": [
    "# python program to demonstrate the use of \"//\"\n",
    "print(10//3)\n",
    "print (-5//2)\n",
    "print (5.0//2)\n",
    "print (-5.0//2)"
   ]
  },
  {
   "cell_type": "code",
   "execution_count": null,
   "metadata": {},
   "outputs": [],
   "source": [
    "# Examples of Arithmetic Operator\n",
    "a = 9\n",
    "b = 4\n",
    " \n",
    "# Addition of numbers\n",
    "add = a + b\n",
    " \n",
    "# Subtraction of numbers\n",
    "sub = a - b\n",
    " \n",
    "# Multiplication of number\n",
    "mul = a * b\n",
    " \n",
    "# Modulo of both number\n",
    "mod = a % b\n",
    " \n",
    "# Power\n",
    "p = a ** b\n",
    " \n",
    "# print results\n",
    "print(add)\n",
    "print(sub)\n",
    "print(mul)\n",
    "print(mod)\n",
    "print(p)"
   ]
  },
  {
   "cell_type": "code",
   "execution_count": null,
   "metadata": {},
   "outputs": [],
   "source": [
    "# Examples of Relational Operators\n",
    "a = 13\n",
    "b = 33\n",
    " \n",
    "# a > b is False\n",
    "print(a > b)\n",
    " \n",
    "# a < b is True\n",
    "print(a < b)\n",
    " \n",
    "# a == b is False\n",
    "print(a == b)\n",
    " \n",
    "# a != b is True\n",
    "print(a != b)\n",
    " \n",
    "# a >= b is False\n",
    "print(a >= b)\n",
    " \n",
    "# a <= b is True\n",
    "print(a <= b)"
   ]
  },
  {
   "cell_type": "code",
   "execution_count": null,
   "metadata": {},
   "outputs": [],
   "source": [
    "# Examples of Logical Operator\n",
    "a = True\n",
    "b = False\n",
    " \n",
    "# Print a and b is False\n",
    "print(a and b)\n",
    " \n",
    "# Print a or b is True\n",
    "print(a or b)\n",
    " \n",
    "# Print not a is False\n",
    "print(not a)\n",
    "\n",
    "# note there are bitwise operators, but we do not show"
   ]
  },
  {
   "cell_type": "code",
   "execution_count": null,
   "metadata": {},
   "outputs": [],
   "source": [
    "# Examples of Assignment Operators\n",
    "a = 10\n",
    " \n",
    "# Assign value\n",
    "b = a\n",
    "print(b)\n",
    " \n",
    "# Add and assign value\n",
    "b += a\n",
    "print(b)\n",
    "print(f'a: {a}')\n",
    "# Subtract and assign value\n",
    "b -= a\n",
    "print(b)\n",
    " \n",
    "# multiply and assign\n",
    "b *= a\n",
    "print(b)"
   ]
  },
  {
   "cell_type": "code",
   "execution_count": null,
   "metadata": {},
   "outputs": [],
   "source": [
    "# Example Identity Operators in Python\n",
    "a = 10\n",
    "b = 20\n",
    "c = a\n",
    " \n",
    "print(a is not b)\n",
    "print(a is c)\n",
    "print(a is b)"
   ]
  },
  {
   "cell_type": "code",
   "execution_count": null,
   "metadata": {},
   "outputs": [],
   "source": [
    "# Python program to illustrate\n",
    "# not 'in' operator\n",
    "x = 24\n",
    "y = 20\n",
    "list = [10, 20, 30, 40, 50]\n",
    " \n",
    "if (x not in list):\n",
    "    print(\"x is NOT present in given list\")\n",
    "else:\n",
    "    print(\"x is present in given list\")\n",
    " \n",
    "if (y in list):\n",
    "    print(\"y is present in given list\")\n",
    "else:\n",
    "    print(\"y is NOT present in given list\")"
   ]
  },
  {
   "cell_type": "code",
   "execution_count": null,
   "metadata": {},
   "outputs": [],
   "source": [
    "# Program to demonstrate conditional operator\n",
    "a, b = 10, 20\n",
    " \n",
    "# Copy value of a in min if a < b else copy b\n",
    "min = a if a < b else b\n",
    " \n",
    "print(min)\n",
    "\n",
    "# note there is operator preccendence and associativity, but we skip"
   ]
  },
  {
   "cell_type": "markdown",
   "metadata": {},
   "source": [
    "# Control Flow"
   ]
  },
  {
   "cell_type": "code",
   "execution_count": null,
   "metadata": {},
   "outputs": [],
   "source": [
    "# python program to illustrate If statement\n",
    "\n",
    "i = 10\n",
    "\n",
    "if (i > 15):\n",
    "\tprint(\"10 is less than 15\")\n",
    "print(\"I am Not in if\")"
   ]
  },
  {
   "cell_type": "code",
   "execution_count": null,
   "metadata": {},
   "outputs": [],
   "source": [
    "# python program to illustrate If else statement\n",
    "\n",
    "i = 20\n",
    "if (i < 15):\n",
    "\tprint(\"i is smaller than 15\")\n",
    "\tprint(\"i'm in if Block\")\n",
    "else:\n",
    "\tprint(\"i is greater than 15\")\n",
    "\tprint(\"i'm in else Block\")\n",
    "print(\"i'm not in if and not in else Block\")"
   ]
  },
  {
   "cell_type": "code",
   "execution_count": null,
   "metadata": {},
   "outputs": [],
   "source": [
    "# loops\n",
    "my_list = [0,1,2,3,5,8,13]\n",
    "for val in my_list:\n",
    "    print(val)"
   ]
  },
  {
   "cell_type": "code",
   "execution_count": null,
   "metadata": {},
   "outputs": [],
   "source": [
    "dna = 'ATGCTTCTTATCTATTCGCTAGCTAGCTACGATCGAGCCTTCATTTGCAGA'\n",
    "for bp in dna:\n",
    "    print(bp)"
   ]
  },
  {
   "cell_type": "code",
   "execution_count": null,
   "metadata": {},
   "outputs": [],
   "source": [
    "dna = 'ATGCTTCTTATCTATTCGCTAGCTAGCTACGATCGAGCCTTCATTTGCAGA'\n",
    "for i in range(0,len(dna),3):\n",
    "    print(i)\n",
    "    print(dna[i:i+3])"
   ]
  },
  {
   "cell_type": "code",
   "execution_count": null,
   "metadata": {},
   "outputs": [],
   "source": [
    "codons = []\n",
    "dna = 'ATGCTTCTTATCTATTCGCTAGCTAGCTACGATCGAGCCTTCATTTGCAGA'\n",
    "for i in range(0,len(dna),3):\n",
    "    codons.append(dna[i:i+3])\n",
    "codons"
   ]
  },
  {
   "cell_type": "code",
   "execution_count": null,
   "metadata": {},
   "outputs": [],
   "source": [
    "# list comprehension\n",
    "codons = [dna[i:i+3] for i in range(0,len(dna),3)]\n",
    "codons"
   ]
  },
  {
   "cell_type": "code",
   "execution_count": null,
   "metadata": {},
   "outputs": [],
   "source": [
    "# break and continue\n",
    "codons = []\n",
    "dna = 'ATGTTTCTTATCTATTCGCTAGCTAGCTACGATCGAGCCTTCATTTGCAGA'\n",
    "for i in range(0,len(dna),3):\n",
    "    if(dna[i:i+3] == 'TTT'):\n",
    "        continue # skip over TTT for no good reason\n",
    "    codons.append(dna[i:i+3])\n",
    "    if(dna[i:i+3] == 'TAA' or dna[i:i+3] == 'TAG' or dna[i:i+3] == 'TGA'):\n",
    "        print(\"stop\")\n",
    "        break # break for stop codons\n",
    "print(len(codons))\n",
    "'TTT' in codons"
   ]
  },
  {
   "cell_type": "markdown",
   "metadata": {},
   "source": [
    "# Functions"
   ]
  },
  {
   "cell_type": "markdown",
   "metadata": {},
   "source": [
    "![../codon_table.png](../images/codon_table.png)"
   ]
  },
  {
   "cell_type": "code",
   "execution_count": null,
   "metadata": {},
   "outputs": [],
   "source": [
    "def transcription(dna):\n",
    "    return dna.replace('T','U')\n",
    "dna = 'ATGTTTCTTATCTATTCGCTAGCTAGCTACGATCGAGCCTTCATTTGCAGA'\n",
    "rna = transcription(dna)\n",
    "codon_table = {\n",
    "    'AUG':'M'\n",
    "}\n",
    "def translation(rna):\n",
    "    codons = [rna[i:i+3] for i in range(0,len(rna),3)]\n",
    "    return [codon_table[codon] for codon in codons]\n",
    "translation(rna)"
   ]
  },
  {
   "cell_type": "markdown",
   "metadata": {},
   "source": [
    "# Modules"
   ]
  },
  {
   "cell_type": "code",
   "execution_count": null,
   "metadata": {},
   "outputs": [],
   "source": [
    "# modules\n",
    "!pip3 install biopython"
   ]
  },
  {
   "cell_type": "code",
   "execution_count": 106,
   "metadata": {},
   "outputs": [],
   "source": [
    "from Bio.Data.CodonTable import standard_rna_table"
   ]
  },
  {
   "cell_type": "code",
   "execution_count": 107,
   "metadata": {},
   "outputs": [
    {
     "data": {
      "text/plain": [
       "{'UUU': 'F',\n",
       " 'UUC': 'F',\n",
       " 'UUA': 'L',\n",
       " 'UUG': 'L',\n",
       " 'UCU': 'S',\n",
       " 'UCC': 'S',\n",
       " 'UCA': 'S',\n",
       " 'UCG': 'S',\n",
       " 'UAU': 'Y',\n",
       " 'UAC': 'Y',\n",
       " 'UGU': 'C',\n",
       " 'UGC': 'C',\n",
       " 'UGG': 'W',\n",
       " 'CUU': 'L',\n",
       " 'CUC': 'L',\n",
       " 'CUA': 'L',\n",
       " 'CUG': 'L',\n",
       " 'CCU': 'P',\n",
       " 'CCC': 'P',\n",
       " 'CCA': 'P',\n",
       " 'CCG': 'P',\n",
       " 'CAU': 'H',\n",
       " 'CAC': 'H',\n",
       " 'CAA': 'Q',\n",
       " 'CAG': 'Q',\n",
       " 'CGU': 'R',\n",
       " 'CGC': 'R',\n",
       " 'CGA': 'R',\n",
       " 'CGG': 'R',\n",
       " 'AUU': 'I',\n",
       " 'AUC': 'I',\n",
       " 'AUA': 'I',\n",
       " 'AUG': 'M',\n",
       " 'ACU': 'T',\n",
       " 'ACC': 'T',\n",
       " 'ACA': 'T',\n",
       " 'ACG': 'T',\n",
       " 'AAU': 'N',\n",
       " 'AAC': 'N',\n",
       " 'AAA': 'K',\n",
       " 'AAG': 'K',\n",
       " 'AGU': 'S',\n",
       " 'AGC': 'S',\n",
       " 'AGA': 'R',\n",
       " 'AGG': 'R',\n",
       " 'GUU': 'V',\n",
       " 'GUC': 'V',\n",
       " 'GUA': 'V',\n",
       " 'GUG': 'V',\n",
       " 'GCU': 'A',\n",
       " 'GCC': 'A',\n",
       " 'GCA': 'A',\n",
       " 'GCG': 'A',\n",
       " 'GAU': 'D',\n",
       " 'GAC': 'D',\n",
       " 'GAA': 'E',\n",
       " 'GAG': 'E',\n",
       " 'GGU': 'G',\n",
       " 'GGC': 'G',\n",
       " 'GGA': 'G',\n",
       " 'GGG': 'G'}"
      ]
     },
     "execution_count": 107,
     "metadata": {},
     "output_type": "execute_result"
    }
   ],
   "source": [
    "standard_rna_table.forward_table"
   ]
  },
  {
   "cell_type": "code",
   "execution_count": 111,
   "metadata": {},
   "outputs": [
    {
     "data": {
      "text/plain": [
       "'MFLIYSLASYDRAFICR'"
      ]
     },
     "execution_count": 111,
     "metadata": {},
     "output_type": "execute_result"
    }
   ],
   "source": [
    "def transcription(dna):\n",
    "    return dna.replace('T','U')\n",
    "def translation(rna):\n",
    "    codons = [rna[i:i+3] for i in range(0,len(rna),3)]\n",
    "    return ''.join([standard_rna_table.forward_table[codon] for codon in codons])\n",
    "dna = 'ATGTTTCTTATCTATTCGCTAGCTAGCTACGATCGAGCCTTCATTTGCAGA'\n",
    "rna = transcription(dna)\n",
    "\n",
    "translation(rna)"
   ]
  },
  {
   "cell_type": "markdown",
   "metadata": {},
   "source": [
    "# Object-Oriented Programming"
   ]
  },
  {
   "cell_type": "code",
   "execution_count": 161,
   "metadata": {},
   "outputs": [],
   "source": [
    "class Seq:\n",
    "    \"\"\"\n",
    "    A class to represent a DNA sequence.\n",
    "\n",
    "    ...\n",
    "\n",
    "    Attributes\n",
    "    ----------\n",
    "    sequence : str\n",
    "        first name of the person\n",
    "    surname : str\n",
    "        family name of the person\n",
    "    age : int\n",
    "        age of the person\n",
    "\n",
    "    Methods\n",
    "    -------\n",
    "    info(additional=\"\"):\n",
    "        Prints the person's name and age.\n",
    "    \"\"\"\n",
    "    def __init__(self,seq):\n",
    "        \"\"\"\n",
    "        Constructs all the necessary attributes for the person object.\n",
    "\n",
    "        Parameters\n",
    "        ----------\n",
    "            name : str\n",
    "                first name of the person\n",
    "            surname : str\n",
    "                family name of the person\n",
    "            age : int\n",
    "                age of the person\n",
    "        \"\"\"\n",
    "        self.seq = seq\n",
    "    def __str__(self) -> str:\n",
    "        return self.seq\n",
    "    def reverse(self):\n",
    "        return Seq(self.seq[::-1])\n",
    "    def complement(self):\n",
    "        a = self.seq.replace('A','X')\n",
    "        a = a.replace('T','A')\n",
    "        a = a.replace('X','T')\n",
    "        a = a.replace('C','X')\n",
    "        a = a.replace('G','C')\n",
    "        a = a.replace('X','G')\n",
    "        return Seq(a)\n",
    "    def reverse_complement(self):\n",
    "        return self.reverse().complement()\n",
    "    def transcript(self):\n",
    "        return Seq(self.seq.replace('T','U'))\n",
    "    def translate(self):\n",
    "        if('T' in self.seq):\n",
    "            raise ValueError('This is DNA')\n",
    "        codons = [self.seq[i:i+3] for i in range(0,len(self.seq),3)]\n",
    "        return ''.join([standard_rna_table.forward_table[codon] for codon in codons])"
   ]
  },
  {
   "cell_type": "code",
   "execution_count": 165,
   "metadata": {},
   "outputs": [
    {
     "data": {
      "text/plain": [
       "'M'"
      ]
     },
     "execution_count": 165,
     "metadata": {},
     "output_type": "execute_result"
    }
   ],
   "source": [
    "dna = Seq('ATG')\n",
    "dna.transcript().translate()"
   ]
  }
 ],
 "metadata": {
  "kernelspec": {
   "display_name": "Python 3.10.6 64-bit",
   "language": "python",
   "name": "python3"
  },
  "language_info": {
   "codemirror_mode": {
    "name": "ipython",
    "version": 3
   },
   "file_extension": ".py",
   "mimetype": "text/x-python",
   "name": "python",
   "nbconvert_exporter": "python",
   "pygments_lexer": "ipython3",
   "version": "3.10.6"
  },
  "orig_nbformat": 4,
  "vscode": {
   "interpreter": {
    "hash": "916dbcbb3f70747c44a77c7bcd40155683ae19c65e1c03b4aa3499c5328201f1"
   }
  }
 },
 "nbformat": 4,
 "nbformat_minor": 2
}
